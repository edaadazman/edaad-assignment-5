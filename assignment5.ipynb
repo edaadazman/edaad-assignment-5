{
 "cells": [
  {
   "cell_type": "code",
   "execution_count": 1,
   "metadata": {},
   "outputs": [],
   "source": [
    "import numpy as np\n",
    "import pandas as pd"
   ]
  },
  {
   "cell_type": "code",
   "execution_count": 2,
   "metadata": {},
   "outputs": [],
   "source": [
    "class KNN:\n",
    "    def __init__(self, k=3, distance_metric='euclidean'):\n",
    "        self.k = k\n",
    "        self.distance_metric = distance_metric\n",
    "\n",
    "    def fit(self, X, y):\n",
    "        self.X_train = X\n",
    "        self.y_train = y\n",
    "\n",
    "    def compute_distance(self, X1, X2):\n",
    "        if self.distance_metric == 'euclidean':\n",
    "            return np.linalg.norm(X2 - X1, axis=1)\n",
    "        elif self.distance_metric == 'manhattan':\n",
    "            return np.sum(np.abs(X2 - X1), axis=1)\n",
    "        else:\n",
    "            raise ValueError(\"Unsupported distance metric\")\n",
    "\n",
    "    def predict(self, X):\n",
    "        return np.apply_along_axis(self.predict_single, 1, X.values)\n",
    "\n",
    "    def predict_single(self, x):\n",
    "        distances = self.compute_distance(x, self.X_train.values)\n",
    "        k_indices = np.argpartition(distances, self.k)[:self.k]\n",
    "        k_nearest_labels = self.y_train.iloc[k_indices]\n",
    "        return np.mean(k_nearest_labels)\n"
   ]
  },
  {
   "cell_type": "code",
   "execution_count": 3,
   "metadata": {},
   "outputs": [],
   "source": [
    "def preprocess_data(train_path, test_path):\n",
    "    train_df = pd.read_csv(train_path)\n",
    "    test_df = pd.read_csv(test_path)\n",
    "\n",
    "    full_data = pd.concat([train_df, test_df], ignore_index=True)\n",
    "\n",
    "    full_data = pd.get_dummies(full_data, columns=['Geography', 'Gender'], drop_first=True)\n",
    "\n",
    "    selected_features = ['CreditScore', 'Age', 'Tenure', 'Balance', 'NumOfProducts', 'HasCrCard', 'IsActiveMember', 'EstimatedSalary'] + \\\n",
    "                        [col for col in full_data.columns if col.startswith('Geography_') or col.startswith('Gender_')]\n",
    "\n",
    "    full_data[selected_features] = (full_data[selected_features] - full_data[selected_features].mean()) / full_data[selected_features].std()\n",
    "\n",
    "    X_train = full_data.loc[:len(train_df)-1, selected_features]\n",
    "    y_train = train_df['Exited']\n",
    "    X_test = full_data.loc[len(train_df):, selected_features]\n",
    "\n",
    "    return X_train, y_train, X_test\n"
   ]
  },
  {
   "cell_type": "code",
   "execution_count": 4,
   "metadata": {},
   "outputs": [],
   "source": [
    "def cross_validate(X, y, knn, n_splits=5):\n",
    "    np.random.seed(42)\n",
    "    indices = np.random.permutation(len(X))\n",
    "    fold_size = len(X) // n_splits\n",
    "    scores = []\n",
    "\n",
    "    for i in range(n_splits):\n",
    "        val_indices = indices[i * fold_size:(i + 1) * fold_size]\n",
    "        train_indices = np.setdiff1d(indices, val_indices)\n",
    "\n",
    "        X_train, X_val = X.iloc[train_indices], X.iloc[val_indices]\n",
    "        y_train, y_val = y.iloc[train_indices], y.iloc[val_indices]\n",
    "\n",
    "        knn.fit(X_train, y_train)\n",
    "        y_est_prob = knn.predict(X_val)\n",
    "        score = compute_auc_score(y_val, y_est_prob)\n",
    "        scores.append(score)\n",
    "\n",
    "    return scores\n",
    "\n",
    "def compute_auc_score(y_true, y_est_prob):\n",
    "    positive_indices = np.where(y_true == 1)[0]\n",
    "    negative_indices = np.where(y_true == 0)[0]\n",
    "\n",
    "    if len(positive_indices) == 0 or len(negative_indices) == 0:\n",
    "        return 0.5\n",
    "\n",
    "    positive_predictions = y_est_prob[positive_indices]\n",
    "    negative_predictions = y_est_prob[negative_indices]\n",
    "\n",
    "    correct_order = np.sum(positive_predictions[:, None] > negative_predictions)\n",
    "    return correct_order / (len(positive_indices) * len(negative_indices))"
   ]
  },
  {
   "cell_type": "code",
   "execution_count": 5,
   "metadata": {},
   "outputs": [
    {
     "name": "stdout",
     "output_type": "stream",
     "text": [
      "Cross-validation AUC scores: [0.7827393099966703, 0.819753998373543, 0.8114446802742773, 0.7861315496098105, 0.8229182427660009]\n",
      "Mean AUC score: 0.8045975562040603\n",
      "Best hyperparameters: {'k': 16, 'distance_metric': 'manhattan'}\n",
      "Best AUC score: 0.8783080816498605\n"
     ]
    }
   ],
   "source": [
    "X, y, X_test = preprocess_data('./train.csv', './test.csv')\n",
    "\n",
    "knn = KNN(k=5, distance_metric='euclidean')\n",
    "\n",
    "cross_val_scores = cross_validate(X, y, knn)\n",
    "\n",
    "print(\"Cross-validation AUC scores:\", cross_val_scores)\n",
    "print(\"Mean AUC score:\", np.mean(cross_val_scores))\n",
    "\n",
    "k_values = [3, 5, 8, 10, 12, 16]  \n",
    "distance_metrics = ['euclidean', 'manhattan']\n",
    "best_auc = 0\n",
    "best_hyperparams = {}\n",
    "\n",
    "for k in k_values:\n",
    "    for metric in distance_metrics:\n",
    "        knn_model = KNN(k=k, distance_metric=metric)\n",
    "        auc_scores = cross_validate(X, y, knn_model)\n",
    "        avg_auc = np.mean(auc_scores)\n",
    "\n",
    "        if avg_auc > best_auc:\n",
    "            best_auc = avg_auc\n",
    "            best_hyperparams = {'k': k, 'distance_metric': metric}\n",
    "\n",
    "print(\"Best hyperparameters:\", best_hyperparams)\n",
    "print(\"Best AUC score:\", best_auc)\n",
    "\n",
    "knn = KNN(**best_hyperparams)\n",
    "knn.fit(X, y)\n",
    "\n",
    "test_predictions = knn.predict(X_test)\n",
    "\n",
    "rounded_preds = np.round(test_predictions, 2)\n",
    "pd.DataFrame({'id': pd.read_csv('./test.csv')['id'], 'Exited': rounded_preds.ravel()}).to_csv('submissions.csv', index=False)"
   ]
  }
 ],
 "metadata": {
  "kernelspec": {
   "display_name": "base",
   "language": "python",
   "name": "python3"
  },
  "language_info": {
   "codemirror_mode": {
    "name": "ipython",
    "version": 3
   },
   "file_extension": ".py",
   "mimetype": "text/x-python",
   "name": "python",
   "nbconvert_exporter": "python",
   "pygments_lexer": "ipython3",
   "version": "3.11.4"
  }
 },
 "nbformat": 4,
 "nbformat_minor": 2
}
